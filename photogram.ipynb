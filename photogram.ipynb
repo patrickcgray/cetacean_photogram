{
 "cells": [
  {
   "cell_type": "markdown",
   "metadata": {},
   "source": [
    "# Mask R-CNN Species Photogrammetry"
   ]
  },
  {
   "cell_type": "markdown",
   "metadata": {},
   "source": [
    "### Environment Setup"
   ]
  },
  {
   "cell_type": "code",
   "execution_count": 1,
   "metadata": {},
   "outputs": [
    {
     "name": "stderr",
     "output_type": "stream",
     "text": [
      "Using TensorFlow backend.\n"
     ]
    }
   ],
   "source": [
    "import os\n",
    "import sys\n",
    "import random\n",
    "import math\n",
    "import re\n",
    "import time\n",
    "import numpy as np\n",
    "import pandas as pd\n",
    "import tensorflow as tf\n",
    "import matplotlib\n",
    "import matplotlib.pyplot as plt\n",
    "import matplotlib.patches as patches\n",
    "import imgaug\n",
    "from imgaug import augmenters as iaa\n",
    "import numpy.ma as ma\n",
    "import scipy.misc\n",
    "import skimage.filters\n",
    "\n",
    "# Root directory of the project\n",
    "MASK_RCNN_DIR = os.path.abspath(\"../Mask_RCNN/\")\n",
    "ROOT_DIR = os.path.abspath(\".\")\n",
    "\n",
    "# Import Mask RCNN\n",
    "sys.path.append(MASK_RCNN_DIR)  # To find local version of the library\n",
    "from mrcnn import utils\n",
    "from mrcnn import visualize\n",
    "from mrcnn.visualize import display_images\n",
    "import mrcnn.model as modellib\n",
    "from mrcnn.model import log\n",
    "\n",
    "import whale\n",
    "\n",
    "%matplotlib inline \n",
    "\n",
    "# Directory to save logs and trained model\n",
    "#MODEL_DIR = os.path.join(ROOT_DIR, \"logs\")\n",
    "MODEL_DIR = os.path.abspath(\"../Mask_RCNN/logs/\")\n"
   ]
  },
  {
   "cell_type": "markdown",
   "metadata": {},
   "source": [
    "### Model and dataset setup"
   ]
  },
  {
   "cell_type": "code",
   "execution_count": 2,
   "metadata": {},
   "outputs": [],
   "source": [
    "config = whale.WhaleConfig()\n",
    "WHALE_DIR = os.path.abspath(\"../photogram_data/\")\n",
    "\n",
    "# Override the training configurations with a few\n",
    "# changes for inferencing.\n",
    "class InferenceConfig(config.__class__):\n",
    "# Run detection on one image at a time\n",
    "    GPU_COUNT = 1\n",
    "    IMAGES_PER_GPU = 1\n",
    "\n",
    "config = InferenceConfig()\n",
    "#config.display()\n",
    "\n",
    "# Device to load the neural network on.\n",
    "# Useful if you're training a model on the same \n",
    "# machine, in which case use CPU and leave the\n",
    "# GPU for training.\n",
    "DEVICE = \"/cpu:0\" # /cpu:0 or /gpu:0\n",
    "\n",
    "# Inspect the model in training or inference modes\n",
    "# values: 'inference' or 'training'\n",
    "# TODO: code for 'training' test mode not ready yet\n",
    "TEST_MODE = \"inference\"\n",
    "\n",
    "\n"
   ]
  },
  {
   "cell_type": "code",
   "execution_count": 7,
   "metadata": {},
   "outputs": [
    {
     "name": "stdout",
     "output_type": "stream",
     "text": [
      "Images: 60\n",
      "Classes: ['BG', 'balaenoptera_musculus_body', 'balaenoptera_musculus_pectoral', 'megaptera_novaeangliae_body', 'megaptera_novaeangliae_pectoral', 'balaenoptera_acutorostrata_body', 'balaenoptera_acutorostrata_pectoral']\n"
     ]
    }
   ],
   "source": [
    "# Load dataset to measure\n",
    "dataset = whale.WhaleDataset()\n",
    "dataset.load_whale(WHALE_DIR, \"test\")\n",
    "#dataset.load_whale(WHALE_DIR, \"test\")\n",
    "\n",
    "# Must call before using the dataset\n",
    "dataset.prepare()\n",
    "print(\"Images: {}\\nClasses: {}\".format(len(dataset.image_ids), dataset.class_names))"
   ]
  },
  {
   "cell_type": "code",
   "execution_count": 8,
   "metadata": {},
   "outputs": [],
   "source": [
    "def get_ax(rows=1, cols=1, size=16):\n",
    "    \"\"\"Return a Matplotlib Axes array to be used in\n",
    "    all visualizations in the notebook. Provide a\n",
    "    central point to control graph sizes.\n",
    "    \n",
    "    Adjust the size attribute to control how big to render images\n",
    "    \"\"\"\n",
    "    _, ax = plt.subplots(rows, cols, figsize=(size*cols, size*rows))\n",
    "    return ax"
   ]
  },
  {
   "cell_type": "code",
   "execution_count": 9,
   "metadata": {},
   "outputs": [],
   "source": [
    "# Create model in inference mode\n",
    "with tf.device(DEVICE):\n",
    "    model = modellib.MaskRCNN(mode=\"inference\", model_dir=MODEL_DIR,\n",
    "                          config=config)"
   ]
  },
  {
   "cell_type": "markdown",
   "metadata": {},
   "source": [
    "## Function Definitions"
   ]
  },
  {
   "cell_type": "code",
   "execution_count": 10,
   "metadata": {},
   "outputs": [],
   "source": [
    "def run_cnn(weights_path=\"/home/clifgray/Code/Mask_RCNN/logs/whale20180613T0247/mask_rcnn_whale_0150.h5\", verbose=0):\n",
    "        \n",
    "    # Load weights\n",
    "    #weights_path = model.find_last()[1]\n",
    "    print(\"Loading weights \", weights_path)\n",
    "    model.load_weights(weights_path, by_name=True)\n",
    "    print(\"Weights loaded.\")\n",
    "    \n",
    "    \n",
    "    detection_results = []\n",
    "    initial_time = time.perf_counter()\n",
    "    for image_id in dataset.image_ids:\n",
    "    \n",
    "        image, image_meta, gt_class_id, gt_bbox, gt_mask =\\\n",
    "            modellib.load_image_gt(dataset, config, image_id, use_mini_mask=False)\n",
    "\n",
    "        info = dataset.image_info[image_id]\n",
    "\n",
    "        # Run object detection\n",
    "        results = model.detect([image], verbose=0)\n",
    "        \n",
    "        #detection_results.append([results, info, image_id])\n",
    "        detection_results.append([results, info['id'], image_id, {'class_ids' : gt_class_id, 'masks' : gt_mask}])\n",
    "        if verbose:\n",
    "            print(\"Done detecting and masking image #:  \" + str(len(detection_results)))\n",
    "    \n",
    "    finish_time = time.perf_counter()\n",
    "    time_elapsed = finish_time - initial_time\n",
    "    if verbose:\n",
    "        print(\"\\n\")\n",
    "        print(time_elapsed, \"seconds elapsed while masking\", len(detection_results), \"images.\")\n",
    "        print((time_elapsed/len(detection_results), \"seconds per image.\"))\n",
    "    \n",
    "    return detection_results\n",
    "\n"
   ]
  },
  {
   "cell_type": "code",
   "execution_count": 11,
   "metadata": {},
   "outputs": [],
   "source": [
    "def pca(body, visualize=False):\n",
    "    xy_array = []\n",
    "    # get indexes of mask pixels\n",
    "    y, x = np.nonzero(body)\n",
    "    \n",
    "    # mean center the coords\n",
    "    x = x - np.mean(x)\n",
    "    y = y - np.mean(y)\n",
    "    coords = np.vstack([x, y])\n",
    "\n",
    "    # build covariance matreix and eigenvectors\n",
    "    cov = np.cov(coords)\n",
    "    evals, evecs = np.linalg.eig(cov)\n",
    "    \n",
    "    # sort eigenvalues\n",
    "    sort_indices = np.argsort(evals)[::-1]\n",
    "    x_v1, y_v1 = evecs[:, sort_indices[0]]  # Eigenvector with largest eigenvalue\n",
    "    x_v2, y_v2 = evecs[:, sort_indices[1]]\n",
    "\n",
    "    \n",
    "    if visualize is True:\n",
    "        # plot the major and minor axis of the whale mask\n",
    "        scale = 20\n",
    "        plt.plot(x, y, 'k.')\n",
    "\n",
    "        plt.plot([x_v1*-scale*2, x_v1*scale*2],\n",
    "         [y_v1*-scale*2, y_v1*scale*2], color='red')\n",
    "        plt.plot([x_v2*-scale, x_v2*scale],\n",
    "         [y_v2*-scale, y_v2*scale], color='blue')\n",
    "        plt.axis('equal')\n",
    "        plt.gca().invert_yaxis()  # Match the image system with origin at top left\n",
    "        plt.show()\n",
    "\n",
    "    # orient this along the horizontal axis\n",
    "    theta = np.tanh((x_v2)/(y_v2))  \n",
    "    rotation_mat = np.matrix([[np.cos(theta), -np.sin(theta)],\n",
    "                      [np.sin(theta), np.cos(theta)]])\n",
    "    transformed_mat = rotation_mat * coords\n",
    "    \n",
    "    # plot the transformed blob\n",
    "    # these are the final transformed coords\n",
    "    x_transformed, y_transformed = transformed_mat.A\n",
    "\n",
    "    maxX = np.max(x_transformed)\n",
    "    minX = np.min(x_transformed)\n",
    "    maxY = np.max(y_transformed)\n",
    "    minY = np.min(y_transformed)\n",
    "\n",
    "\n",
    "    # Get corresonding Y values for minX and maxX\n",
    "    maxX_index = np.where(x_transformed == maxX)  # index of right-most point\n",
    "    rightY = float((y_transformed[maxX_index]))   # corresponding Y value\n",
    "\n",
    "\n",
    "    minX_index = np.where(x_transformed == minX)  # index of left-most point\n",
    "    leftY = float((y_transformed[minX_index]))    # corresponding Y value\n",
    "    \n",
    "    # Orient the mask correctly - flip so the fluke is on the right\n",
    "\n",
    "    # Get corresonding X values for maxY and minY\n",
    "\n",
    "    maxY_index = np.where(y_transformed == maxY) #index of top point\n",
    "    topX = float((x_transformed[maxY_index])) #corresponding X value\n",
    "\n",
    "\n",
    "    minY_index = np.where(y_transformed == minY) #index of bottom point\n",
    "    bottomX = float((x_transformed[minY_index])) #corresponding X value\n",
    "\n",
    "    # flip mask so fluke is on the right, if necessary\n",
    "    if (topX < 0 or bottomX < 0):\n",
    "        x_transformed = x_transformed*-1 \n",
    "    \n",
    "    xy_array = [x_transformed, y_transformed]\n",
    "    \n",
    "    \n",
    "    return xy_array\n"
   ]
  },
  {
   "cell_type": "code",
   "execution_count": 12,
   "metadata": {},
   "outputs": [],
   "source": [
    "def measure(body_mask, visualize=False):\n",
    "    xy_array = pca(body_mask. visualize=visualize)\n",
    "    x_transformed = xy_array[0]\n",
    "    y_transformed = xy_array[1]\n",
    "\n",
    "    # Reassign max/min X values in case image was flipped during PCA\n",
    "    maxX = np.max(x_transformed) # Right-most point\n",
    "    minX = np.min(x_transformed) # Left-most point\n",
    "\n",
    "    # Get corresponding Y values for maxX and minX\n",
    "    maxX_index = np.where(x_transformed == maxX)  # index of right-most point\n",
    "    rightY = float((y_transformed[maxX_index]))   # corresponding Y value\n",
    "\n",
    "    minX_index = np.where(x_transformed == minX)  # index of left-most point\n",
    "    leftY = float((y_transformed[minX_index]))    # corresponding Y value\n",
    "\n",
    "    # TODO come up with a better solution here\n",
    "\n",
    "    # Draw a straight line across the mask\n",
    "\n",
    "    # Filter out points close to the midline of the mask (on the Y axis)\n",
    "    # TODO arbitrary lambda, might need to change later\n",
    "    lowEnough = list(filter(lambda y: y < (leftY + 0.5), y_transformed)) #above midline\n",
    "    yValues = list(filter(lambda y: y > (leftY - 0.5), lowEnough)) #below midline\n",
    "    yValues.sort()\n",
    "\n",
    "    # Get corresponding X values to draw the line\n",
    "\n",
    "    # List of appropriate indices\n",
    "    indices = []\n",
    "    for point in yValues:\n",
    "        index = int(np.where(y_transformed == point)[0])\n",
    "        indices.append(index)\n",
    "\n",
    "    xValues = [] # Corresponding X values\n",
    "    for index in indices:\n",
    "        xValues.append(x_transformed[index]) \n",
    "\n",
    "    xValues.sort()\n",
    "\n",
    "    # Use distance formula to measure the length from the midline\n",
    "    length = math.sqrt((xValues[-1] - xValues[0])**2 + (yValues[-1] - yValues[0])**2)\n",
    "    \n",
    "    return(length)\n",
    "        "
   ]
  },
  {
   "cell_type": "code",
   "execution_count": 13,
   "metadata": {},
   "outputs": [],
   "source": [
    "# Each image could have multiple masks (body and pectoral) and multiple animals\n",
    "# Return all of the body masks\n",
    "\n",
    "def find_correct_masks(mask_list): \n",
    "    class_body_array = []\n",
    "    for index, class_id in enumerate(mask_list['class_ids']):\n",
    "        if class_id % 2 != 0: # all body class ids are odd numbers\n",
    "            class_body_array.append([class_id, mask_list['masks'][:,:,index]])    \n",
    "    return(class_body_array)"
   ]
  },
  {
   "cell_type": "code",
   "execution_count": 14,
   "metadata": {},
   "outputs": [],
   "source": [
    "def append_measurements(results_list, manual=False):\n",
    "    \"\"\"\n",
    "    this changes detections results from:\n",
    "        [results, info['id'], image_id, gt_mask_dict]\n",
    "    to:\n",
    "        [results, info['id'], image_id, gt_mask_dict, \n",
    "          [class_id, cnn_lengths], [class_id, gt_lengths]]\n",
    "\n",
    "    \"\"\"\n",
    "    #image, image_meta, gt_class_id, gt_bbox, gt_mask =\\\n",
    "    #    modellib.load_image_gt(dataset, config, image_id, use_mini_mask=False)\n",
    "    # TODO why is this loaded???\n",
    "        \n",
    "    for detection_result in results_list:\n",
    "        detected_mask_list = detection_result[0][0]\n",
    "        gt_mask_list = detection_result[3]\n",
    "            \n",
    "        detected_body_list = find_correct_masks(detected_mask_list)  \n",
    "        gt_body_list = find_correct_masks(gt_mask_list)\n",
    "\n",
    "        detected_body_lengths = []\n",
    "        for class_id_body in detected_body_list:\n",
    "            detected_body_lengths.append([class_id_body[0], measure(class_id_body[1])])\n",
    "        \n",
    "        gt_body_lengths = []\n",
    "        for class_id_body in gt_body_list:\n",
    "            gt_body_lengths.append([class_id_body[0], measure(class_id_body[1])])\n",
    "       \n",
    "        detection_result.append(detected_body_lengths)\n",
    "        detection_result.append(gt_body_lengths)\n",
    "        # detection_results is now [results, info['id'], image_id, gt_mask_dict, [class_id, cnn_lengths], [class_id, gt_lengths]]\n",
    "            \n",
    "    return(True)\n",
    "    "
   ]
  },
  {
   "cell_type": "code",
   "execution_count": 15,
   "metadata": {},
   "outputs": [],
   "source": [
    "def girth(results_list, length_list, num_of_increments, manual=False, visualize=False):\n",
    "    \n",
    "    girth_measurements = []\n",
    "\n",
    "    image, image_meta, gt_class_id, gt_bbox, gt_mask =\\\n",
    "        modellib.load_image_gt(dataset, config, image_id, use_mini_mask=False)\n",
    "    \n",
    "    for item in results_list: # get the mask and length\n",
    "        if not manual:\n",
    "            mask = item[0][0][\"masks\"]\n",
    "            length = item[3]\n",
    "            img_id = item[2]\n",
    "        else:\n",
    "            mask = item\n",
    "            index = results_list.index(item)\n",
    "            length = length_list[index]\n",
    "            img_id = index\n",
    "            \n",
    "        body = find_correct_masks(mask) # ignore pectoral masks\n",
    "        increment = length / num_of_increments\n",
    "        \n",
    "        xy_array = pca(body)\n",
    "        x_transformed = xy_array[0]\n",
    "        y_transformed = xy_array[1]\n",
    "        \n",
    "        #print(\"Increment in Pixels\", increment)\n",
    "        \n",
    "        maxX = np.max(x_transformed)\n",
    "        minX = np.min(x_transformed)\n",
    "        maxY = np.max(y_transformed)\n",
    "        minY = np.min(y_transformed)\n",
    "        \n",
    "        plt.plot(x_transformed, y_transformed, 'g.', zorder=0)\n",
    "        \n",
    "        avgY = (sum(y_transformed) / len(y_transformed))\n",
    "        currentX = minX\n",
    "        \n",
    "        current_whale_girth = []\n",
    "        while(currentX < maxX-increment): \n",
    "            plt.scatter(currentX, avgY)\n",
    "            \n",
    "            \n",
    "            # At each X, filter out Y values from y_transformed to get vertical line\n",
    "                # Similar to measure()\n",
    "            # Filter out points close to vertical line \n",
    "\n",
    "            right_x_values = list(filter(lambda x: x < (currentX + 0.5), x_transformed))\n",
    "            xValues = list(filter(lambda x: x > (currentX - 0.5), right_x_values)) \n",
    "            xValues.sort()\n",
    "\n",
    "            # Get corresponding Y values to find top and bottom of line\n",
    "            # List of appropriate indices\n",
    "            indices = []\n",
    "            for point in xValues:\n",
    "                index = int(np.where(x_transformed == point)[0])\n",
    "                indices.append(index)\n",
    "    \n",
    "            yValues = [] # Corresponding X values\n",
    "            for index in indices:\n",
    "                yValues.append(y_transformed[index]) \n",
    "\n",
    "            yValues.sort()\n",
    "            plt.scatter(xValues, yValues, zorder=10)\n",
    "            \n",
    "            # Measuring girth as an array output (tuple)\n",
    "            girth = math.sqrt((xValues[-1] - xValues[0])**2 + (yValues[-1] - yValues[0])**2)\n",
    "            current_whale_girth.append(girth)\n",
    "           \n",
    "            \n",
    "            currentX = currentX + increment\n",
    "        \n",
    "        girth_measurements.append(current_whale_girth)\n",
    "\n",
    "        \n",
    "        if visualize:           \n",
    "            print(\"Image ID: \", img_id)\n",
    "            print(\"Current Whale's Girth\", current_whale_girth)\n",
    "\n",
    "            # set axis limits\n",
    "            plt.xlim([minX - 100, maxX + 100])\n",
    "            plt.ylim([minY - 200, maxY + 200])\n",
    "            plt.show()\n",
    "    \n",
    "    return girth_measurements\n",
    "    "
   ]
  },
  {
   "cell_type": "code",
   "execution_count": 16,
   "metadata": {},
   "outputs": [],
   "source": [
    "def get_pd_from_csv(csv_fn):\n",
    "    measurements = pd.read_csv(csv_fn)\n",
    "        \n",
    "    blue_measurements = measurements.loc[measurements[\"Whale\"].str.contains(\"Bm\")] \n",
    "    blue_measurements = blue_measurements.reset_index(drop=True)\n",
    "    \n",
    "    humpback_measurements = measurements.loc[measurements[\"Whale\"].str.contains(\"Mn\")] \n",
    "    humpback_measurements = humpback_measurements.reset_index(drop=True)\n",
    "    \n",
    "    minke_measurements = measurements.loc[measurements[\"Whale\"].str.contains(\"Bb\")] \n",
    "    minke_measurements = minke_measurements.reset_index(drop=True)\n",
    "\n",
    "    return(blue_measurements, humpback_measurements, minke_measurements)"
   ]
  },
  {
   "cell_type": "code",
   "execution_count": 17,
   "metadata": {},
   "outputs": [],
   "source": [
    "def pixel_to_meters(pixels, size_factor, pixel_size, focal_length, total_altitude):\n",
    "    adjusted_pixel_count = pixels * size_factor\n",
    "    return(adjusted_pixel_count * pixel_size/focal_length * total_altitude)\n",
    "    \n",
    "\n",
    "def convert_measurements(merged_df, org_img_size=(6000.0, 4000.0)):\n",
    "    all_lengths = []\n",
    "\n",
    "    # imaged were downsized from 6000 as a max dimension to 1024 as a max dimension so pixels are 5x as large in meters\n",
    "    pixel_size_factor =  org_img_size[0] / 1024.0\n",
    "    \n",
    "    for i, row in merged_df.iterrows():\n",
    "        det_length = pixel_to_meters(row['detected_pix_len'], pixel_size_factor, row['Pixel size'], row[\"Focal length (mm)\"], row[\"Total Altitude\"])   \n",
    "        merged_df.at[i,'detected_len'] = det_length\n",
    "        \n",
    "        gt_length = pixel_to_meters(row['gt_pix_len'], pixel_size_factor, row['Pixel size'], row[\"Focal length (mm)\"], row[\"Total Altitude\"])   \n",
    "        merged_df.at[i,'gt_len'] = gt_length\n",
    "    \n",
    "    return(True)"
   ]
  },
  {
   "cell_type": "markdown",
   "metadata": {},
   "source": [
    "## Function Calls"
   ]
  },
  {
   "cell_type": "code",
   "execution_count": 18,
   "metadata": {},
   "outputs": [
    {
     "name": "stdout",
     "output_type": "stream",
     "text": [
      "Loading weights  /home/clifgray/Code/cetacean_photogram/logs/whale20180815T0121/mask_rcnn_whale_0066.h5\n",
      "Weights loaded.\n"
     ]
    }
   ],
   "source": [
    "detection_results = run_cnn(weights_path='/home/clifgray/Code/cetacean_photogram/logs/whale20180815T0121/mask_rcnn_whale_0066.h5')"
   ]
  },
  {
   "cell_type": "code",
   "execution_count": 20,
   "metadata": {},
   "outputs": [
    {
     "data": {
      "text/plain": [
       "True"
      ]
     },
     "execution_count": 20,
     "metadata": {},
     "output_type": "execute_result"
    }
   ],
   "source": [
    "append_measurements(detection_results) # CNN appends length "
   ]
  },
  {
   "cell_type": "code",
   "execution_count": 24,
   "metadata": {},
   "outputs": [
    {
     "data": {
      "text/plain": [
       "[[1, 657.9520612994761]]"
      ]
     },
     "execution_count": 24,
     "metadata": {},
     "output_type": "execute_result"
    }
   ],
   "source": [
    "detection_results[0][-1]"
   ]
  },
  {
   "cell_type": "code",
   "execution_count": 79,
   "metadata": {},
   "outputs": [
    {
     "name": "stdout",
     "output_type": "stream",
     "text": [
      "[[5, 42.73102297381253]]\n"
     ]
    }
   ],
   "source": [
    "for whale in detection_results:\n",
    "    if whale[1] == \"DSC09258.JPG\":\n",
    "        print(whale[-2])"
   ]
  },
  {
   "cell_type": "code",
   "execution_count": 61,
   "metadata": {},
   "outputs": [],
   "source": [
    "def create_df(appended_detections, measurements_csv_fn):\n",
    "    detections_df = pd.DataFrame(columns=['Image','detected_class','detected_pix_len','gt_class','gt_pix_len'])\n",
    "    for index, img in enumerate(appended_detections):\n",
    "        try:\n",
    "            longest_length = 0\n",
    "            longest_detection = None\n",
    "            for detection in img[4]: # this is the detected mask class and can have multiple\n",
    "                # take the longest mask\n",
    "                if detection[1] > longest_length:\n",
    "                    longest_detection = detection\n",
    "                    longest_length = detection[1]\n",
    "               \n",
    "            detections_df = detections_df.append({\"Image\": img[1], \"detected_class\": longest_detection[0], \n",
    "                               \"detected_pix_len\": longest_detection[1], 'gt_class' : img[5][0][0],\n",
    "                              \"gt_pix_len\" : img[5][0][1]}, ignore_index=True)\n",
    "        except IndexError: # in case a detection was not made\n",
    "            pass\n",
    "        except TypeError: # also in case a detection was not made\n",
    "            pass\n",
    "        \n",
    "    measurements = pd.read_csv(measurements_csv_fn)\n",
    "    \n",
    "    merged_df = detections_df.merge(measurements,on='Image', how='inner') #.dropna(subset=['id'])\n",
    "    \n",
    "    return(merged_df)\n",
    "        \n",
    "    "
   ]
  },
  {
   "cell_type": "code",
   "execution_count": 62,
   "metadata": {},
   "outputs": [],
   "source": [
    "new_merged_df = create_df(detection_results, '../photogram_data/whale_measurements.csv')"
   ]
  },
  {
   "cell_type": "code",
   "execution_count": 35,
   "metadata": {},
   "outputs": [
    {
     "data": {
      "text/plain": [
       "True"
      ]
     },
     "execution_count": 35,
     "metadata": {},
     "output_type": "execute_result"
    }
   ],
   "source": [
    "convert_measurements(merged_df)"
   ]
  },
  {
   "cell_type": "code",
   "execution_count": 63,
   "metadata": {},
   "outputs": [
    {
     "data": {
      "text/plain": [
       "True"
      ]
     },
     "execution_count": 63,
     "metadata": {},
     "output_type": "execute_result"
    }
   ],
   "source": [
    "convert_measurements(new_merged_df)"
   ]
  },
  {
   "cell_type": "code",
   "execution_count": 350,
   "metadata": {},
   "outputs": [],
   "source": [
    "merged_df.to_csv('measurements.csv')"
   ]
  },
  {
   "cell_type": "code",
   "execution_count": 67,
   "metadata": {},
   "outputs": [
    {
     "data": {
      "text/plain": [
       "-0.38735832650469604"
      ]
     },
     "execution_count": 67,
     "metadata": {},
     "output_type": "execute_result"
    }
   ],
   "source": [
    "(new_merged_df['detected_len'] - new_merged_df['Total Length (m)']).median()"
   ]
  },
  {
   "cell_type": "code",
   "execution_count": 347,
   "metadata": {},
   "outputs": [
    {
     "data": {
      "text/plain": [
       "0.3040096385669938"
      ]
     },
     "execution_count": 347,
     "metadata": {},
     "output_type": "execute_result"
    }
   ],
   "source": [
    "(merged_df['detected_len'] - merged_df['Total Length (m)']).std()"
   ]
  },
  {
   "cell_type": "code",
   "execution_count": 45,
   "metadata": {},
   "outputs": [
    {
     "data": {
      "text/plain": [
       "-0.4775115441376929"
      ]
     },
     "execution_count": 45,
     "metadata": {},
     "output_type": "execute_result"
    }
   ],
   "source": [
    "(merged_df['detected_len'] - merged_df['Total Length (m)']).median()"
   ]
  },
  {
   "cell_type": "code",
   "execution_count": 44,
   "metadata": {},
   "outputs": [
    {
     "name": "stdout",
     "output_type": "stream",
     "text": [
      "girth\n"
     ]
    },
    {
     "data": {
      "image/png": "[encoded data removed]",
      "text/plain": [
       "<Figure size 432x288 with 1 Axes>"
      ]
     },
     "metadata": {},
     "output_type": "display_data"
    }
   ],
   "source": [
    "print(\"girth\")\n",
    "cnn_girths = girth(detection_results, cnn_lengths, 10)"
   ]
  },
  {
   "cell_type": "code",
   "execution_count": 47,
   "metadata": {},
   "outputs": [
    {
     "name": "stdout",
     "output_type": "stream",
     "text": [
      "12.000000000000002\n"
     ]
    }
   ],
   "source": [
    "print(cnn_girths[0][0])"
   ]
  },
  {
   "cell_type": "code",
   "execution_count": null,
   "metadata": {},
   "outputs": [],
   "source": []
  },
  {
   "cell_type": "code",
   "execution_count": 26,
   "metadata": {},
   "outputs": [],
   "source": [
    "def measure(results_list, manual=False):\n",
    "    length_list = []\n",
    "\n",
    "    image, image_meta, gt_class_id, gt_bbox, gt_mask =\\\n",
    "        modellib.load_image_gt(dataset, config, image_id, use_mini_mask=False)\n",
    "    # TODO why is this loaded???\n",
    "    \n",
    "    # Measuring process is repeated for each item in the array results_list\n",
    "    for mask_list in results_list:\n",
    "        if not manual:\n",
    "            mask = mask_list[0][0][\"masks\"]\n",
    "        else:\n",
    "            mask = mask_list\n",
    "            \n",
    "        body = find_correct_mask(mask)  # Ignore pectoral masks\n",
    "        xy_array = pca(body)\n",
    "        x_transformed = xy_array[0]\n",
    "        y_transformed = xy_array[1]\n",
    "        \n",
    "        # Reassign max/min X values in case image was flipped during PCA\n",
    "        maxX = np.max(x_transformed) # Right-most point\n",
    "        minX = np.min(x_transformed) # Left-most point\n",
    "\n",
    "        # Get corresonding Y values for maxX and minX\n",
    "\n",
    "        maxX_index = np.where(x_transformed == maxX)  # index of right-most point\n",
    "        rightY = float((y_transformed[maxX_index]))   # corresponding Y value\n",
    "\n",
    "        minX_index = np.where(x_transformed == minX)  # index of left-most point\n",
    "        leftY = float((y_transformed[minX_index]))    # corresponding Y value\n",
    "            \n",
    "        # Draw a straight line across the mask\n",
    "\n",
    "        # TODO come up with a better solution here\n",
    "        # Filter out points close to the midline of the mask (on the Y axis)\n",
    "        # TODO arbitrary lambda, might need to change later\n",
    "        lowEnough = list(filter(lambda y: y < (leftY + 0.5), y_transformed)) #above midline\n",
    "        yValues = list(filter(lambda y: y > (leftY - 0.5), lowEnough)) #below midline\n",
    "        yValues.sort()\n",
    "\n",
    "        # Get corresponding X values to draw the line\n",
    "\n",
    "        # List of appropriate indices\n",
    "        indices = []\n",
    "        for point in yValues:\n",
    "            index = int(np.where(y_transformed == point)[0])\n",
    "            indices.append(index)\n",
    "    \n",
    "        xValues = [] # Corresponding X values\n",
    "        for index in indices:\n",
    "            xValues.append(x_transformed[index]) \n",
    "\n",
    "        xValues.sort()\n",
    "\n",
    "        # Use distance formula to measure the length from the midline\n",
    "        length = math.sqrt((xValues[-1] - xValues[0])**2 + (yValues[-1] - yValues[0])**2)\n",
    "        \n",
    "       \n",
    "        if np.array_equal(results_list, detection_results): # Append to CNN object for auto-generated masks\n",
    "            item.append(length)\n",
    "        else:\n",
    "            manual_length_list.append(length) # Create and return a new list of lengths for manual masks\n",
    "        \n",
    "    \n",
    "    if np.array_equal(results_list, detection_results): # Append to CNN object\n",
    "        return\n",
    "    else:\n",
    "        return manual_length_list\n",
    "    "
   ]
  },
  {
   "cell_type": "code",
   "execution_count": 80,
   "metadata": {},
   "outputs": [
    {
     "name": "stdout",
     "output_type": "stream",
     "text": [
      "Loading weights  /home/clifgray/Code/cetacean_photogram/logs/whale20180815T0121/mask_rcnn_whale_0064.h5\n",
      "Weights loaded.\n"
     ]
    },
    {
     "data": {
      "text/plain": [
       "True"
      ]
     },
     "execution_count": 80,
     "metadata": {},
     "output_type": "execute_result"
    }
   ],
   "source": [
    "additional_results = run_cnn(weights_path='/home/clifgray/Code/cetacean_photogram/logs/whale20180815T0121/mask_rcnn_whale_0064.h5')\n",
    "append_measurements(additional_results) # CNN appends length \n",
    "additional_df = create_df(additional_results, '../photogram_data/whale_measurements.csv')\n",
    "convert_measurements(additional_df)"
   ]
  },
  {
   "cell_type": "code",
   "execution_count": 87,
   "metadata": {},
   "outputs": [
    {
     "name": "stdout",
     "output_type": "stream",
     "text": [
      "DSC00429.JPG\n",
      "-4.427345241996004\n",
      "DSC09175.JPG\n",
      "-3.8104367638908005\n",
      "DSC09258.JPG\n",
      "-8.055659734564074\n",
      "DSC05019.JPG\n",
      "-1.6395333021501273\n",
      "DSC01963.JPG\n",
      "-9.290056754513504\n",
      "DSC01317.JPG\n",
      "-2.805915819623502\n",
      "DSC00660.JPG\n",
      "-1.9683515833236722\n"
     ]
    }
   ],
   "source": [
    "for index, row in additional_df.iterrows():\n",
    "    diff = row['detected_len'] - row['Total Length (m)']\n",
    "    if abs(diff) > 1.2:\n",
    "        print(row[\"Image\"])\n",
    "        print(diff)\n",
    "       # print(row['Total Length (m)'])\n",
    "        #print(row[\"gt_len\"])"
   ]
  },
  {
   "cell_type": "code",
   "execution_count": 86,
   "metadata": {},
   "outputs": [
    {
     "name": "stdout",
     "output_type": "stream",
     "text": [
      "DSC03331.JPG\n",
      "-1.2156031819014679\n",
      "DSC00429.JPG\n",
      "-5.1100191368553105\n",
      "DSC09175.JPG\n",
      "-3.8104491066657022\n",
      "DSC09258.JPG\n",
      "-8.267987815908732\n",
      "DSC05019.JPG\n",
      "-1.5532129328290907\n",
      "DSC01317.JPG\n",
      "-1.7550674691149268\n",
      "DSC00660.JPG\n",
      "-1.782827367735477\n"
     ]
    }
   ],
   "source": [
    "for index, row in new_merged_df.iterrows():\n",
    "    diff = row['detected_len'] - row['Total Length (m)']\n",
    "    if abs(diff) > 1.2:\n",
    "        print(row[\"Image\"])\n",
    "        print(diff)\n",
    "        #print(row['Total Length (m)'])\n",
    "        #print(row[\"gt_len\"])"
   ]
  },
  {
   "cell_type": "code",
   "execution_count": 95,
   "metadata": {},
   "outputs": [
    {
     "data": {
      "text/plain": [
       "-0.21696077571351077"
      ]
     },
     "execution_count": 95,
     "metadata": {},
     "output_type": "execute_result"
    }
   ],
   "source": [
    "(additional_df['detected_len'] - additional_df['gt_len']).mean()"
   ]
  },
  {
   "cell_type": "code",
   "execution_count": 94,
   "metadata": {},
   "outputs": [
    {
     "data": {
      "text/plain": [
       "-0.8324049031323458"
      ]
     },
     "execution_count": 94,
     "metadata": {},
     "output_type": "execute_result"
    }
   ],
   "source": [
    "(additional_df['detected_len'] - additional_df['Total Length (m)']).mean()"
   ]
  },
  {
   "cell_type": "code",
   "execution_count": null,
   "metadata": {},
   "outputs": [],
   "source": [
    "def show_example(whale_list, index):\n",
    "    \n",
    "    image_id = index\n",
    "    \n",
    "    image, image_meta, class_ids, bbox, mask = modellib.load_image_gt(\n",
    "        dataset, config, image_id, use_mini_mask=False)\n",
    "    log(\"molded_image\", image)\n",
    "    log(\"mask\", mask)\n",
    "    print(\"mask.shape\", mask.shape)\n",
    "    \n",
    "    item = whale_list[index]\n",
    "    if np.array_equal(whale_list, detection_results):\n",
    "        mask = item[0][0][\"masks\"]\n",
    "    else:\n",
    "        mask = item \n",
    "\n",
    "    visualize.display_instances(image, bbox, mask, class_ids, dataset.class_names, show_bbox=False)\n",
    "    \n",
    "\n",
    "    length_list = []\n",
    "\n",
    "    image, image_meta, gt_class_id, gt_bbox, gt_mask =\\\n",
    "        modellib.load_image_gt(dataset, config, image_id, use_mini_mask=False)\n",
    "    \n",
    "    body = find_correct_mask(mask)\n",
    "    xy_array = pca(body, True)\n",
    "    x_transformed = xy_array[0]\n",
    "    y_transformed = xy_array[1]\n",
    "        #Reassign max/min X values in case image was flipped\n",
    "\n",
    "    maxX = np.max(x_transformed) #rightX\n",
    "    minX = np.min(x_transformed) #leftX\n",
    "    \n",
    "#Get corresonding Y values for leftX and rightX\n",
    "\n",
    "    maxX_index = np.where(x_transformed == maxX) #index of right-most point\n",
    "    rightY = float((y_transformed[maxX_index])) #corresponding Y value\n",
    "\n",
    "\n",
    "    minX_index = np.where(x_transformed == minX) #index of left-most point\n",
    "    leftY = float((y_transformed[minX_index])) #corresponding Y value\n",
    "        \n",
    "        \n",
    "#Get points from leftX and rightX until it runs off the mask\n",
    "\n",
    "#Filter out points above straight line \n",
    "#Arbitrary lambda, might need to change later\n",
    "    lowEnough = list(filter(lambda y: y < (leftY + 0.5), y_transformed))\n",
    "    yValues = list(filter(lambda y: y > (leftY - 0.5), lowEnough)) \n",
    "    yValues.sort()\n",
    "\n",
    "#Get corresponding X values\n",
    "#List of appropriate indices\n",
    "    indices = []\n",
    "    for point in yValues:\n",
    "        index = int(np.where(y_transformed == point)[0])\n",
    "        indices.append(index)\n",
    "    \n",
    "    xValues = [] #Corresponding X values\n",
    "    for index in indices:\n",
    "        xValues.append(x_transformed[index]) \n",
    "\n",
    "    xValues.sort()\n",
    "\n",
    "    length = math.sqrt((xValues[-1] - xValues[0])**2 + (yValues[-1] - yValues[0])**2)\n",
    "    length_list.append(length)\n",
    "        \n",
    "    if np.array_equal(whale_list, detection_results): #CNN Masks, length is appended to object\n",
    "        item.append(length)\n",
    "\n",
    "    #plt.plot(x_transformed, y_transformed, alpha = 0.5)\n",
    "    plt.plot(x_transformed, y_transformed, 'g.', zorder=0)\n",
    "    \n",
    "    # set axis limits\n",
    "    plt.xlim([minX - 100, maxX + 100])\n",
    "    plt.ylim([leftY - 200, rightY + 200])\n",
    "    \n",
    "    #Plot the first and last points from the list, use this for length\n",
    "    \n",
    "    #plt.scatter(xValues[0], yValues[0], zorder=10)\n",
    "    #plt.scatter(xValues[-1], yValues[-1], zorder=10)\n",
    "    plt.scatter(xValues, yValues, zorder=10)\n",
    "    plt.show()\n",
    "    \n",
    "    \n",
    "show_example(mask_array, 3)"
   ]
  },
  {
   "cell_type": "code",
   "execution_count": 114,
   "metadata": {},
   "outputs": [],
   "source": [
    "def measure(body_mask, visualize=False):\n",
    "    xy_array = pca(body_mask, visualize=visualize)\n",
    "    x_transformed = xy_array[0]\n",
    "    y_transformed = xy_array[1]\n",
    "\n",
    "    # Reassign max/min X values in case image was flipped during PCA\n",
    "    maxX = np.max(x_transformed) # Right-most point\n",
    "    minX = np.min(x_transformed) # Left-most point\n",
    "\n",
    "    # Get corresponding Y values for maxX and minX\n",
    "    maxX_index = np.where(x_transformed == maxX)  # index of right-most point\n",
    "    rightY = float((y_transformed[maxX_index]))   # corresponding Y value\n",
    "\n",
    "    minX_index = np.where(x_transformed == minX)  # index of left-most point\n",
    "    leftY = float((y_transformed[minX_index]))    # corresponding Y value\n",
    "\n",
    "    # TODO come up with a better solution here\n",
    "\n",
    "    # Draw a straight line across the mask\n",
    "\n",
    "    # Filter out points close to the midline of the mask (on the Y axis)\n",
    "    # TODO arbitrary lambda, might need to change later\n",
    "    lowEnough = list(filter(lambda y: y < (leftY + 0.5), y_transformed)) #above midline\n",
    "    yValues = list(filter(lambda y: y > (leftY - 0.5), lowEnough)) #below midline\n",
    "    yValues.sort()\n",
    "\n",
    "    # Get corresponding X values to draw the line\n",
    "\n",
    "    # List of appropriate indices\n",
    "    indices = []\n",
    "    for point in yValues:\n",
    "        index = int(np.where(y_transformed == point)[0])\n",
    "        indices.append(index)\n",
    "\n",
    "    xValues = [] # Corresponding X values\n",
    "    for index in indices:\n",
    "        xValues.append(x_transformed[index]) \n",
    "\n",
    "    xValues.sort()\n",
    "\n",
    "    # Use distance formula to measure the length from the midline\n",
    "    length = math.sqrt((xValues[-1] - xValues[0])**2 + (yValues[-1] - yValues[0])**2)\n",
    "    \n",
    "    if visualize:\n",
    "    \n",
    "        #plt.plot(x_transformed, y_transformed, alpha = 0.5)\n",
    "        plt.plot(x_transformed, y_transformed, 'g.', zorder=0)\n",
    "\n",
    "        # set axis limits\n",
    "        plt.xlim([minX - 100, maxX + 100])\n",
    "        plt.ylim([leftY - 200, rightY + 200])\n",
    "\n",
    "        #Plot the first and last points from the list, use this for length\n",
    "\n",
    "        #plt.scatter(xValues[0], yValues[0], zorder=10)\n",
    "        #plt.scatter(xValues[-1], yValues[-1], zorder=10)\n",
    "        plt.scatter(xValues, yValues, zorder=10)\n",
    "        plt.show()\n",
    "    \n",
    "    return(length)\n",
    "        "
   ]
  },
  {
   "cell_type": "code",
   "execution_count": 133,
   "metadata": {},
   "outputs": [
    {
     "data": {
      "text/plain": [
       "'DSC03331.JPG'"
      ]
     },
     "execution_count": 133,
     "metadata": {},
     "output_type": "execute_result"
    }
   ],
   "source": [
    "additional_results[0][1]"
   ]
  },
  {
   "cell_type": "code",
   "execution_count": 136,
   "metadata": {},
   "outputs": [
    {
     "name": "stdout",
     "output_type": "stream",
     "text": [
      "0\n",
      "52.16229242337221\n"
     ]
    },
    {
     "data": {
      "image/png": "[encoded data removed]",
      "text/plain": [
       "<Figure size 432x288 with 1 Axes>"
      ]
     },
     "metadata": {},
     "output_type": "display_data"
    },
    {
     "data": {
      "image/png": "[encoded data removed]",
      "text/plain": [
       "<Figure size 432x288 with 1 Axes>"
      ]
     },
     "metadata": {},
     "output_type": "display_data"
    }
   ],
   "source": [
    "# TODO need to make sure that it is displaying the largest mask\n",
    "for img in additional_results:\n",
    "    if img[1] == \"DSC09258.JPG\": \n",
    "        \n",
    "        try:\n",
    "            longest_index = -1\n",
    "            longest_length = 0\n",
    "            for index, detection in enumerate(img[4]): # this is the detected mask class and can have multiple\n",
    "                print(index)\n",
    "                # take the longest mask\n",
    "                if detection[1] > longest_length:\n",
    "                    longest_index = index\n",
    "                    longest_length = detection[1]\n",
    "                    print(longest_length)\n",
    "\n",
    "            measure(img[0][0]['masks'][:,:,longest_index], visualize=True)\n",
    "\n",
    "        except IndexError: # in case a detection was not made\n",
    "            pass\n",
    "        except TypeError: # also in case a detection was not made\n",
    "            pass\n",
    "    \n"
   ]
  },
  {
   "cell_type": "code",
   "execution_count": 142,
   "metadata": {},
   "outputs": [
    {
     "name": "stdout",
     "output_type": "stream",
     "text": [
      "0\n",
      "295.20642126209594\n",
      "1\n",
      "2\n"
     ]
    },
    {
     "data": {
      "image/png": "[encoded data removed]",
      "text/plain": [
       "<Figure size 432x288 with 1 Axes>"
      ]
     },
     "metadata": {},
     "output_type": "display_data"
    },
    {
     "data": {
      "image/png": "[encoded data removed]",
      "text/plain": [
       "<Figure size 432x288 with 1 Axes>"
      ]
     },
     "metadata": {},
     "output_type": "display_data"
    }
   ],
   "source": [
    "# TODO need to make sure that it is displaying the largest mask\n",
    "for img in additional_results:\n",
    "    if img[1] == \"DSC01963.JPG\": \n",
    "        \n",
    "        try:\n",
    "            longest_index = -1\n",
    "            longest_length = 0\n",
    "            for index, detection in enumerate(img[4]): # this is the detected mask class and can have multiple\n",
    "                print(index)\n",
    "                # take the longest mask\n",
    "                if detection[1] > longest_length:\n",
    "                    longest_index = index\n",
    "                    longest_length = detection[1]\n",
    "                    print(longest_length)\n",
    "\n",
    "            measure(img[0][0]['masks'][:,:,2], visualize=True)\n",
    "\n",
    "        except IndexError: # in case a detection was not made\n",
    "            pass\n",
    "        except TypeError: # also in case a detection was not made\n",
    "            pass\n",
    "    \n"
   ]
  },
  {
   "cell_type": "code",
   "execution_count": 144,
   "metadata": {},
   "outputs": [
    {
     "name": "stdout",
     "output_type": "stream",
     "text": [
      "0\n",
      "55.76552518808449\n"
     ]
    },
    {
     "data": {
      "image/png": "[encoded data removed]",
      "text/plain": [
       "<Figure size 432x288 with 1 Axes>"
      ]
     },
     "metadata": {},
     "output_type": "display_data"
    },
    {
     "data": {
      "image/png": "[encoded data removed]",
      "text/plain": [
       "<Figure size 432x288 with 1 Axes>"
      ]
     },
     "metadata": {},
     "output_type": "display_data"
    }
   ],
   "source": [
    "# TODO need to make sure that it is displaying the largest mask\n",
    "for img in additional_results:\n",
    "    if img[1] == \"DSC00429.JPG\": \n",
    "        \n",
    "        try:\n",
    "            longest_index = -1\n",
    "            longest_length = 0\n",
    "            for index, detection in enumerate(img[4]): # this is the detected mask class and can have multiple\n",
    "                print(index)\n",
    "                # take the longest mask\n",
    "                if detection[1] > longest_length:\n",
    "                    longest_index = index\n",
    "                    longest_length = detection[1]\n",
    "                    print(longest_length)\n",
    "\n",
    "            measure(img[0][0]['masks'][:,:,0], visualize=True)\n",
    "\n",
    "        except IndexError: # in case a detection was not made\n",
    "            pass\n",
    "        except TypeError: # also in case a detection was not made\n",
    "            pass\n",
    "    \n"
   ]
  },
  {
   "cell_type": "code",
   "execution_count": 145,
   "metadata": {},
   "outputs": [
    {
     "name": "stdout",
     "output_type": "stream",
     "text": [
      "0\n",
      "189.9944298932187\n",
      "1\n",
      "218.08481854999272\n"
     ]
    },
    {
     "data": {
      "image/png": "[encoded data removed]",
      "text/plain": [
       "<Figure size 432x288 with 1 Axes>"
      ]
     },
     "metadata": {},
     "output_type": "display_data"
    },
    {
     "data": {
      "image/png": "[encoded data removed]",
      "text/plain": [
       "<Figure size 432x288 with 1 Axes>"
      ]
     },
     "metadata": {},
     "output_type": "display_data"
    }
   ],
   "source": [
    "\n",
    "# TODO need to make sure that it is displaying the largest mask\n",
    "for img in additional_results:\n",
    "    if img[1] == \"DSC09175.JPG\": \n",
    "        \n",
    "        try:\n",
    "            longest_index = -1\n",
    "            longest_length = 0\n",
    "            for index, detection in enumerate(img[4]): # this is the detected mask class and can have multiple\n",
    "                print(index)\n",
    "                # take the longest mask\n",
    "                if detection[1] > longest_length:\n",
    "                    longest_index = index\n",
    "                    longest_length = detection[1]\n",
    "                    print(longest_length)\n",
    "\n",
    "            measure(img[0][0]['masks'][:,:,0], visualize=True)\n",
    "\n",
    "        except IndexError: # in case a detection was not made\n",
    "            pass\n",
    "        except TypeError: # also in case a detection was not made\n",
    "            pass\n",
    "    "
   ]
  },
  {
   "cell_type": "code",
   "execution_count": null,
   "metadata": {},
   "outputs": [],
   "source": []
  }
 ],
 "metadata": {
  "kernelspec": {
   "display_name": "Python 3",
   "language": "python",
   "name": "python3"
  },
  "language_info": {
   "codemirror_mode": {
    "name": "ipython",
    "version": 3
   },
   "file_extension": ".py",
   "mimetype": "text/x-python",
   "name": "python",
   "nbconvert_exporter": "python",
   "pygments_lexer": "ipython3",
   "version": "3.6.5"
  }
 },
 "nbformat": 4,
 "nbformat_minor": 2
}
