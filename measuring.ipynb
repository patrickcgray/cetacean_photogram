{
 "cells": [
  {
   "cell_type": "markdown",
   "metadata": {},
   "source": [
    "# Mask R-CNN Species Measuring"
   ]
  },
  {
   "cell_type": "markdown",
   "metadata": {},
   "source": [
    "### Environment Setup"
   ]
  },
  {
   "cell_type": "code",
   "execution_count": 3,
   "metadata": {},
   "outputs": [],
   "source": [
    "import os\n",
    "import sys\n",
    "import random\n",
    "import math\n",
    "import re\n",
    "import time\n",
    "import numpy as np\n",
    "import pandas as pd\n",
    "import tensorflow as tf\n",
    "import matplotlib\n",
    "import matplotlib.pyplot as plt\n",
    "import matplotlib.patches as patches\n",
    "import imgaug\n",
    "from imgaug import augmenters as iaa\n",
    "\n",
    "# Root directory of the project\n",
    "ROOT_DIR = os.path.abspath(\"../../\")\n",
    "\n",
    "# Import Mask RCNN\n",
    "sys.path.append(ROOT_DIR)  # To find local version of the library\n",
    "from mrcnn import utils\n",
    "from mrcnn import visualize\n",
    "from mrcnn.visualize import display_images\n",
    "import mrcnn.model as modellib\n",
    "from mrcnn.model import log\n",
    "\n",
    "from samples.whales import whale\n",
    "\n",
    "import numpy.ma as ma\n",
    "import scipy.misc\n",
    "\n",
    "import numpy as np\n",
    "import matplotlib.pyplot as plt\n",
    "import skimage.filters\n",
    "\n",
    "%matplotlib inline \n",
    "\n",
    "# Directory to save logs and trained model\n",
    "MODEL_DIR = os.path.join(ROOT_DIR, \"logs\")"
   ]
  },
  {
   "cell_type": "markdown",
   "metadata": {},
   "source": [
    "### Model and dataset setup"
   ]
  },
  {
   "cell_type": "code",
   "execution_count": 4,
   "metadata": {},
   "outputs": [
    {
     "name": "stdout",
     "output_type": "stream",
     "text": [
      "Images: 17\n",
      "Classes: ['BG', 'megaptera_novaeangliae_body', 'megaptera_novaeangliae_pectoral']\n"
     ]
    }
   ],
   "source": [
    "#sets up the system and generates masks\n",
    "# Root directory of the project\n",
    "ROOT_DIR = os.path.abspath(\"../../\")\n",
    "\n",
    "# Import Mask RCNN\n",
    "sys.path.append(ROOT_DIR)  # To find local version of the library\n",
    "%matplotlib inline \n",
    "\n",
    "# Path to trained weights\n",
    "#WHALE_WEIGHTS_PATH = \"/home/clifgray/Code/Mask_RCNN/logs/whale20180613T0247/mask_rcnn_whale_0075.h5\"\n",
    "\n",
    "config = whale.WhaleConfig()\n",
    "WHALE_DIR = os.path.join(ROOT_DIR, \"datasets/whale_training/blue\")\n",
    "# Override the training configurations with a few\n",
    "# changes for inferencing.\n",
    "class InferenceConfig(config.__class__):\n",
    "# Run detection on one image at a time\n",
    "    GPU_COUNT = 1\n",
    "    IMAGES_PER_GPU = 1\n",
    "\n",
    "config = InferenceConfig()\n",
    "#config.display()\n",
    "\n",
    "# Device to load the neural network on.\n",
    "# Useful if you're training a model on the same \n",
    "# machine, in which case use CPU and leave the\n",
    "# GPU for training.\n",
    "DEVICE = \"/gpu:0\"  # /cpu:0 or /gpu:0\n",
    "\n",
    "# Inspect the model in training or inference modes\n",
    "# values: 'inference' or 'training'\n",
    "# TODO: code for 'training' test mode not ready yet\n",
    "TEST_MODE = \"inference\"\n",
    "\n",
    "# Load validation dataset\n",
    "dataset = whale.WhaleDataset()\n",
    "dataset.load_whale(WHALE_DIR, \"test\")\n",
    "#\n",
    "# Must call before using the dataset\n",
    "dataset.prepare()\n",
    "\n",
    "print(\"Images: {}\\nClasses: {}\".format(len(dataset.image_ids), dataset.class_names))\n",
    "\n",
    "\n",
    "#Getting manually drawn masks\n",
    "id_array = np.arange(len(dataset.image_ids)) #17 images in this set\n",
    "mask_array = []\n",
    "for num in id_array:\n",
    "    image_id = num\n",
    "\n",
    "    image, image_meta, class_ids, bbox, mask = modellib.load_image_gt(dataset, config, image_id, use_mini_mask=False)\n",
    "    info = dataset.image_info[image_id]\n",
    "   # if image_id >= 19 and image_id <= 35:\n",
    "    mask_array.append(mask)\n",
    "    \n",
    "def get_ax(rows=1, cols=1, size=16):\n",
    "    \"\"\"Return a Matplotlib Axes array to be used in\n",
    "    all visualizations in the notebook. Provide a\n",
    "    central point to control graph sizes.\n",
    "    \n",
    "    Adjust the size attribute to control how big to render images\n",
    "    \"\"\"\n",
    "    _, ax = plt.subplots(rows, cols, figsize=(size*cols, size*rows))\n",
    "    return ax\n"
   ]
  },
  {
   "cell_type": "markdown",
   "metadata": {},
   "source": [
    "## Function Definitions"
   ]
  },
  {
   "cell_type": "code",
   "execution_count": 5,
   "metadata": {},
   "outputs": [],
   "source": [
    "def run_cnn(weights_path=\"/home/clifgray/Code/Mask_RCNN/logs/whale20180613T0247/mask_rcnn_whale_0150.h5\"):\n",
    "    # Create model in inference mode\n",
    "    with tf.device(DEVICE):\n",
    "        model = modellib.MaskRCNN(mode=\"inference\", model_dir=MODEL_DIR,\n",
    "                              config=config)\n",
    "        \n",
    "    # Load weights\n",
    "    print(\"Loading weights \", weights_path)\n",
    "    model.load_weights(weights_path, by_name=True)\n",
    "    print(\"Weights loaded.\")\n",
    "    \n",
    "    \n",
    "    detection_results = []\n",
    "    initial_time = time.perf_counter()\n",
    "    for image_id in dataset.image_ids:\n",
    "    \n",
    "        image, image_meta, gt_class_id, gt_bbox, gt_mask =\\\n",
    "            modellib.load_image_gt(dataset, config, image_id, use_mini_mask=False)\n",
    "\n",
    "        info = dataset.image_info[image_id]\n",
    "\n",
    "        # Run object detection\n",
    "        results = model.detect([image], verbose=0)\n",
    "        \n",
    "        detection_results.append([results, info, image_id])\n",
    "        print(\"Done detecting and masking image #:  \" + str(len(detection_results)))\n",
    "    \n",
    "    finish_time = time.perf_counter()\n",
    "    time_elapsed = finish_time - initial_time\n",
    "    print(\"\\n\")\n",
    "    print(time_elapsed, \"seconds elapsed while masking\", len(detection_results), \"images.\")\n",
    "    print((time_elapsed/len(detection_results), \"seconds per image.\"))\n",
    "    \n",
    "    return detection_results\n",
    "\n"
   ]
  },
  {
   "cell_type": "code",
   "execution_count": 6,
   "metadata": {},
   "outputs": [],
   "source": [
    "#After run through NN, each image could have multiple masks\n",
    "def find_correct_mask(mask): \n",
    "    #Find which mask to use - one with the largest number of pixels\n",
    "    # ***TODO change this to choosing the ones with the body label?\n",
    "    numOfMasks = np.size(mask, 2)\n",
    "    i = 0\n",
    "    pixcount = 0\n",
    "    pixCountArray = []\n",
    "    while i < numOfMasks:\n",
    "        currentMask = (mask[:, :, i])\n",
    "        pixcount = 0\n",
    "        nonzero = np.nonzero(currentMask)\n",
    "        it2 = np.nditer(currentMask, flags =['multi_index'])\n",
    "        while not it2.finished:\n",
    "            if it2[0] == True:\n",
    "                pixcount = pixcount + 1\n",
    "            it2.iternext()\n",
    "        pixCountArray.append(pixcount)\n",
    "        i = i+1\n",
    "\n",
    "#Find max in pixCountArray - gets the biggest mask that will be the body\n",
    "    correctIndex = pixCountArray.index(max(pixCountArray))\n",
    "    body = (mask[:,:,correctIndex])\n",
    "    return body"
   ]
  },
  {
   "cell_type": "code",
   "execution_count": 7,
   "metadata": {},
   "outputs": [],
   "source": [
    "def pca(body, boolean):\n",
    "    xy_array = []\n",
    " # get indexes of mask pixels\n",
    "    y, x = np.nonzero(body)\n",
    "    \n",
    "# mean center the coords\n",
    "    x = x - np.mean(x)\n",
    "    y = y - np.mean(y)\n",
    "    coords = np.vstack([x, y])\n",
    "\n",
    "# build covariance matreix and eigenvectors\n",
    "    cov = np.cov(coords)\n",
    "    evals, evecs = np.linalg.eig(cov)\n",
    "    \n",
    "# sort eigenvalues\n",
    "    sort_indices = np.argsort(evals)[::-1]\n",
    "    x_v1, y_v1 = evecs[:, sort_indices[0]]  # Eigenvector with largest eigenvalue\n",
    "    x_v2, y_v2 = evecs[:, sort_indices[1]]\n",
    "\n",
    "    \n",
    "    if boolean == True:\n",
    "# plot the major and minor axis of the whale mask\n",
    "        scale = 20\n",
    "        plt.plot(x, y, 'k.')\n",
    "\n",
    "        plt.plot([x_v1*-scale*2, x_v1*scale*2],\n",
    "         [y_v1*-scale*2, y_v1*scale*2], color='red')\n",
    "        plt.plot([x_v2*-scale, x_v2*scale],\n",
    "         [y_v2*-scale, y_v2*scale], color='blue')\n",
    "        plt.axis('equal')\n",
    "        plt.gca().invert_yaxis()  # Match the image system with origin at top left\n",
    "        plt.show()\n",
    "\n",
    "# orient this along the horizontal axis\n",
    "    theta = np.tanh((x_v2)/(y_v2))  \n",
    "    rotation_mat = np.matrix([[np.cos(theta), -np.sin(theta)],\n",
    "                      [np.sin(theta), np.cos(theta)]])\n",
    "    transformed_mat = rotation_mat * coords\n",
    "# plot the transformed blob\n",
    "#these are the final transformed coords\n",
    "    x_transformed, y_transformed = transformed_mat.A\n",
    "\n",
    "    maxX = np.max(x_transformed)\n",
    "    minX = np.min(x_transformed)\n",
    "    maxY = np.max(y_transformed)\n",
    "    minY = np.min(y_transformed)\n",
    "\n",
    "\n",
    "#Get corresonding Y values for minX and maxX\n",
    "    maxX_index = np.where(x_transformed == maxX) #index of right-most point\n",
    "    rightY = float((y_transformed[maxX_index])) #corresponding Y value\n",
    "\n",
    "\n",
    "    minX_index = np.where(x_transformed == minX) #index of left-most point\n",
    "    leftY = float((y_transformed[minX_index])) #corresponding Y value\n",
    "    \n",
    "#Orient the mask correctly - flip so the fluke is on the right\n",
    "\n",
    "#Get corresonding X values for maxY and minY\n",
    "\n",
    "    maxY_index = np.where(y_transformed == maxY) #index of top point\n",
    "    topX = float((x_transformed[maxY_index])) #corresponding X value\n",
    "\n",
    "\n",
    "    minY_index = np.where(y_transformed == minY) #index of bottom point\n",
    "    bottomX = float((x_transformed[minY_index])) #corresponding X value\n",
    "\n",
    "    #Flip mask so fluke is on the right, if necessary\n",
    "    if (topX < 0 or bottomX < 0):\n",
    "        x_transformed = x_transformed*-1 \n",
    "    \n",
    "    xy_array = [x_transformed, y_transformed]\n",
    "    \n",
    "    \n",
    "    return xy_array\n"
   ]
  },
  {
   "cell_type": "code",
   "execution_count": 8,
   "metadata": {},
   "outputs": [],
   "source": [
    "def measure(results_list):\n",
    "    manual_length_list = []\n",
    "\n",
    "    image, image_meta, gt_class_id, gt_bbox, gt_mask =\\\n",
    "        modellib.load_image_gt(dataset, config, image_id, use_mini_mask=False)\n",
    "    \n",
    "    for item in results_list:\n",
    "        if np.array_equal(results_list, detection_results):\n",
    "            mask = item[0][0][\"masks\"]\n",
    "        else:\n",
    "            mask = item\n",
    "            \n",
    "        body = find_correct_mask(mask) #Ignore pectoral masks\n",
    "        xy_array = pca(body, False) #PCA\n",
    "        x_transformed = xy_array[0]\n",
    "        y_transformed = xy_array[1]\n",
    "        \n",
    "        #Reassign max/min X values in case image was flipped during PCA\n",
    "\n",
    "        maxX = np.max(x_transformed) #rightX\n",
    "        minX = np.min(x_transformed) #leftX\n",
    "\n",
    "#Get corresonding Y values for leftX and rightX\n",
    "\n",
    "        maxX_index = np.where(x_transformed == maxX) #index of right-most point\n",
    "        rightY = float((y_transformed[maxX_index])) #corresponding Y value\n",
    "\n",
    "\n",
    "        minX_index = np.where(x_transformed == minX) #index of left-most point\n",
    "        leftY = float((y_transformed[minX_index])) #corresponding Y value\n",
    "        \n",
    "#Get points from leftX and rightX until it runs off the mask\n",
    "\n",
    "#Filter out points close to horizontal line \n",
    "#Arbitrary lambda, might need to change later\n",
    "        lowEnough = list(filter(lambda y: y < (leftY + 0.5), y_transformed)) #above midline\n",
    "        yValues = list(filter(lambda y: y > (leftY - 0.5), lowEnough)) #below midline\n",
    "        yValues.sort()\n",
    "\n",
    "#Get corresponding X values\n",
    "#List of appropriate indices\n",
    "        indices = []\n",
    "        for point in yValues:\n",
    "            index = int(np.where(y_transformed == point)[0])\n",
    "            indices.append(index)\n",
    "    \n",
    "        xValues = [] #Corresponding X values\n",
    "        for index in indices:\n",
    "            xValues.append(x_transformed[index]) \n",
    "\n",
    "        xValues.sort()\n",
    "\n",
    "\n",
    "        length = math.sqrt((xValues[-1] - xValues[0])**2 + (yValues[-1] - yValues[0])**2)\n",
    "        \n",
    "       \n",
    "        if np.array_equal(results_list, detection_results): # Append to CNN object\n",
    "            item.append(length)\n",
    "        else:\n",
    "            manual_length_list.append(length)\n",
    "        \n",
    "    \n",
    "    if np.array_equal(results_list, detection_results): # Append to CNN object\n",
    "        return\n",
    "    else:\n",
    "        print(\"****MANUAL MASKS****\")\n",
    "        print(manual_length_list)\n",
    "        return manual_length_list\n",
    "    "
   ]
  },
  {
   "cell_type": "code",
   "execution_count": 9,
   "metadata": {},
   "outputs": [],
   "source": [
    "def show_example(whale_list, index): # Repeats and displays measuring without saving information\n",
    "    \n",
    "    image_id = index\n",
    "    \n",
    "    image, image_meta, class_ids, bbox, mask = modellib.load_image_gt(\n",
    "        dataset, config, image_id, use_mini_mask=False)\n",
    "    log(\"molded_image\", image)\n",
    "    log(\"mask\", mask)\n",
    "    print(\"mask.shape\", mask.shape)\n",
    "    \n",
    "    item = whale_list[index]\n",
    "    if np.array_equal(whale_list, detection_results):\n",
    "        mask = item[0][0][\"masks\"]\n",
    "    else:\n",
    "        mask = item \n",
    "\n",
    "    visualize.display_instances(image, bbox, mask, class_ids, dataset.class_names, show_bbox=False)\n",
    "    \n",
    "\n",
    "    length_list = []\n",
    "\n",
    "    image, image_meta, gt_class_id, gt_bbox, gt_mask =\\\n",
    "        modellib.load_image_gt(dataset, config, image_id, use_mini_mask=False)\n",
    "    \n",
    "    body = find_correct_mask(mask)\n",
    "    xy_array = pca(body, True)\n",
    "    x_transformed = xy_array[0]\n",
    "    y_transformed = xy_array[1]\n",
    "        #Reassign max/min X values in case image was flipped\n",
    "\n",
    "    maxX = np.max(x_transformed) #rightX\n",
    "    minX = np.min(x_transformed) #leftX\n",
    "    \n",
    "#Get corresonding Y values for leftX and rightX\n",
    "\n",
    "    maxX_index = np.where(x_transformed == maxX) #index of right-most point\n",
    "    rightY = float((y_transformed[maxX_index])) #corresponding Y value\n",
    "\n",
    "\n",
    "    minX_index = np.where(x_transformed == minX) #index of left-most point\n",
    "    leftY = float((y_transformed[minX_index])) #corresponding Y value\n",
    "        \n",
    "        \n",
    "#Get points from leftX and rightX until it runs off the mask\n",
    "\n",
    "#Filter out points above straight line \n",
    "#Arbitrary lambda, might need to change later\n",
    "    lowEnough = list(filter(lambda y: y < (leftY + 0.5), y_transformed))\n",
    "    yValues = list(filter(lambda y: y > (leftY - 0.5), lowEnough)) \n",
    "    yValues.sort()\n",
    "\n",
    "#Get corresponding X values\n",
    "#List of appropriate indices\n",
    "    indices = []\n",
    "    for point in yValues:\n",
    "        index = int(np.where(y_transformed == point)[0])\n",
    "        indices.append(index)\n",
    "    \n",
    "    xValues = [] #Corresponding X values\n",
    "    for index in indices:\n",
    "        xValues.append(x_transformed[index]) \n",
    "\n",
    "    xValues.sort()\n",
    "\n",
    "    length = math.sqrt((xValues[-1] - xValues[0])**2 + (yValues[-1] - yValues[0])**2)\n",
    "    '''length_list.append(length)\n",
    "        \n",
    "    if np.array_equal(whale_list, detection_results): #CNN Masks, length is appended to object\n",
    "        item.append(length)'''\n",
    "\n",
    "    #plt.plot(x_transformed, y_transformed, alpha = 0.5)\n",
    "    plt.plot(x_transformed, y_transformed, 'g.', zorder=0)\n",
    "    \n",
    "    # set axis limits\n",
    "    plt.xlim([minX - 100, maxX + 100])\n",
    "    plt.ylim([leftY - 200, rightY + 200])\n",
    "    \n",
    "    #Plot the first and last points from the list, use this for length\n",
    "    \n",
    "    #plt.scatter(xValues[0], yValues[0], zorder=10)\n",
    "    #plt.scatter(xValues[-1], yValues[-1], zorder=10)\n",
    "    plt.scatter(xValues, yValues, zorder=10)\n",
    "    plt.show()\n",
    "    \n",
    "    print(\"Length in Pixels:\", length)\n",
    "    \n",
    "    \n",
    "#show_example(mask_array, 3)"
   ]
  },
  {
   "cell_type": "code",
   "execution_count": 10,
   "metadata": {},
   "outputs": [],
   "source": [
    "def convert_measurements(results_list):\n",
    "    excel_measurements = pd.read_excel(\"NSF-IOS_2017Measurements_kcb_updated_062018.xlsx\")\n",
    "    # Known measurements \n",
    "    blue_measurements = excel_measurements.loc[excel_measurements[\"Whale\"].str.contains(\"Bm\")] \n",
    "    blue_measurements = blue_measurements.reset_index(drop=True)\n",
    "    manual_lengths = []\n",
    "    cnn_lengths = []\n",
    "\n",
    "# imaged were downsized from 6000 as a max dimension to 1024 as a max dimension so pixels are 5x as large in meters\n",
    "    pixel_size_factor = 6000.0 / 1024.0\n",
    "\n",
    "#measurements_df = pd.DataFrame(np.nan, index=np.arange(0, len(blue_measurements)), columns=['Filename', 'Auto_CNN_Measurements', 'Manual_Mask_Measurements', 'Manual_Standard_Measurements', 'Estimated_Manual_Error'])\n",
    "\n",
    "#measurements_df.set_index(\"Filename\")\n",
    "\n",
    "    for index, row in blue_measurements.iterrows():\n",
    "        cnn_pixel_count = 0\n",
    "        manual_pixel_count = 0\n",
    "    \n",
    "        total_altitude = row[\"Total Altitude\"]\n",
    "        pixel_size = row[\"Pixel size\"]\n",
    "        focal_length = row[\"Focal length (mm)\"] #always 5\n",
    "    \n",
    "        if np.array_equal(results_list, detection_results): \n",
    "            for whale in detection_results: #CNN Masks\n",
    "                if whale[1]['id'] == (row['Image']):\n",
    "                    cnn_pixel_count = whale[3]\n",
    "                    adjusted_cnn_pixel_count = cnn_pixel_count * pixel_size_factor\n",
    "                    cnn_length = adjusted_cnn_pixel_count * pixel_size/focal_length * total_altitude\n",
    "                    cnn_lengths.append(cnn_length)\n",
    "        else:\n",
    "            adjusted_manual_pixel_count = results_list[index] * pixel_size_factor #Manual Masks\n",
    "            manual_length = adjusted_manual_pixel_count * pixel_size/focal_length * total_altitude\n",
    "            manual_lengths.append(manual_length)\n",
    "        \n",
    "    if np.array_equal(results_list, detection_results): \n",
    "        return cnn_lengths\n",
    "    else:\n",
    "        return manual_lengths\n",
    "\n",
    "    # TODO need to make this more robust, might not match the correct index at some point"
   ]
  },
  {
   "cell_type": "code",
   "execution_count": 11,
   "metadata": {},
   "outputs": [],
   "source": [
    "def girth(results_list, length_list, num_of_increments):\n",
    "    \n",
    "    girth_measurements = []\n",
    "\n",
    "    image, image_meta, gt_class_id, gt_bbox, gt_mask =\\\n",
    "        modellib.load_image_gt(dataset, config, image_id, use_mini_mask=False)\n",
    "    \n",
    "    for item in results_list: #get the mask and length\n",
    "        if np.array_equal(results_list, detection_results):\n",
    "            mask = item[0][0][\"masks\"]\n",
    "            length = item[3]\n",
    "            img_id = item[2]\n",
    "        else:\n",
    "            mask = item\n",
    "            index = results_list.index(item)\n",
    "            length = length_list[index]\n",
    "            img_id = index\n",
    "            \n",
    "        body = find_correct_mask(mask) #Ignore pectoral masks\n",
    "        increment = length / num_of_increments\n",
    "        \n",
    "        xy_array = pca(body, False) #PCA\n",
    "        x_transformed = xy_array[0]\n",
    "        y_transformed = xy_array[1]\n",
    "        \n",
    "       # print(\"Increment in Pixels\", increment)\n",
    "        \n",
    "        maxX = np.max(x_transformed)\n",
    "        minX = np.min(x_transformed)\n",
    "        maxY = np.max(y_transformed)\n",
    "        minY = np.min(y_transformed)\n",
    "        \n",
    "        plt.plot(x_transformed, y_transformed, 'g.', zorder=0)\n",
    "        \n",
    "        avgY = (sum(y_transformed) / len(y_transformed))\n",
    "        #plt.scatter(minX, avgY)\n",
    "        currentX = minX\n",
    "        \n",
    "        current_whale_girth = []\n",
    "        while(currentX < maxX-increment): #Not sure if I should ignore the last point since it's in the fluke\n",
    "            plt.scatter(currentX, avgY)\n",
    "            \n",
    "            \n",
    "            #At each X, filter out Y values from y_transformed to get vertical line\n",
    "                #Similar to measure()\n",
    "            #Filter out points close to vertical line \n",
    "\n",
    "            right_x_values = list(filter(lambda x: x < (currentX + 0.5), x_transformed))\n",
    "            xValues = list(filter(lambda x: x > (currentX - 0.5), right_x_values)) \n",
    "            xValues.sort()\n",
    "\n",
    "        #Get corresponding Y values to find top and bottom of line\n",
    "    #List of appropriate indices\n",
    "            indices = []\n",
    "            for point in xValues:\n",
    "                index = int(np.where(x_transformed == point)[0])\n",
    "                indices.append(index)\n",
    "    \n",
    "            yValues = [] #Corresponding X values\n",
    "            for index in indices:\n",
    "                yValues.append(y_transformed[index]) \n",
    "\n",
    "            yValues.sort()\n",
    "            plt.scatter(xValues, yValues, zorder=10)\n",
    "            \n",
    "            # Measuring girth as an array output (tuple)\n",
    "                #Might just want to do Y differences not distance formula\n",
    "            girth = math.sqrt((xValues[-1] - xValues[0])**2 + (yValues[-1] - yValues[0])**2)\n",
    "            current_whale_girth.append(girth)\n",
    "           \n",
    "            \n",
    "            currentX = currentX + increment\n",
    "            \n",
    "        print(\"Image ID: \", img_id)\n",
    "        print(\"Current Whale's Girth\", current_whale_girth)\n",
    "        girth_measurements.append(current_whale_girth)\n",
    "        \n",
    "    # set axis limits\n",
    "        plt.xlim([minX - 100, maxX + 100])\n",
    "        plt.ylim([minY - 200, maxY + 200])\n",
    "        plt.show()\n",
    "    \n",
    "    return girth_measurements\n",
    "    "
   ]
  },
  {
   "cell_type": "markdown",
   "metadata": {},
   "source": [
    "## Function Calls"
   ]
  },
  {
   "cell_type": "code",
   "execution_count": 12,
   "metadata": {},
   "outputs": [
    {
     "name": "stdout",
     "output_type": "stream",
     "text": [
      "Loading weights  /home/clifgray/Code/Mask_RCNN/logs/whale20180613T0247/mask_rcnn_whale_0150.h5\n",
      "Weights loaded.\n",
      "Done detecting and masking image #:  1\n",
      "Done detecting and masking image #:  2\n",
      "Done detecting and masking image #:  3\n",
      "Done detecting and masking image #:  4\n",
      "Done detecting and masking image #:  5\n",
      "Done detecting and masking image #:  6\n",
      "Done detecting and masking image #:  7\n",
      "Done detecting and masking image #:  8\n",
      "Done detecting and masking image #:  9\n",
      "Done detecting and masking image #:  10\n",
      "Done detecting and masking image #:  11\n",
      "Done detecting and masking image #:  12\n",
      "Done detecting and masking image #:  13\n",
      "Done detecting and masking image #:  14\n",
      "Done detecting and masking image #:  15\n",
      "Done detecting and masking image #:  16\n",
      "Done detecting and masking image #:  17\n",
      "\n",
      "\n",
      "56.50491191504989 seconds elapsed while masking 17 images.\n",
      "(3.323818347944111, 'seconds per image.')\n"
     ]
    }
   ],
   "source": [
    "detection_results = run_cnn()"
   ]
  },
  {
   "cell_type": "code",
   "execution_count": 13,
   "metadata": {},
   "outputs": [],
   "source": [
    "measure(detection_results) #CNN appends length "
   ]
  },
  {
   "cell_type": "code",
   "execution_count": 14,
   "metadata": {},
   "outputs": [
    {
     "name": "stdout",
     "output_type": "stream",
     "text": [
      "****MANUAL MASKS****\n",
      "[676.9482217666599, 506.70102985278544, 645.8993713237033, 657.9520612994761, 621.8246545905215, 615.1178489202099, 793.2747820778626, 550.4014732794964, 565.3546900322009, 537.1349501046476, 608.5835015473156, 538.907216316107, 580.1249316559248, 529.9678784077058, 550.9899727202069, 551.3283084819245, 584.2892622212964]\n"
     ]
    }
   ],
   "source": [
    "manual_results = measure(mask_array) # lengths in pixels\n",
    "#print(manual_results)"
   ]
  },
  {
   "cell_type": "code",
   "execution_count": 38,
   "metadata": {},
   "outputs": [
    {
     "ename": "KeyError",
     "evalue": "0",
     "output_type": "error",
     "traceback": [
      "\u001b[0;31m---------------------------------------------------------------------------\u001b[0m",
      "\u001b[0;31mKeyError\u001b[0m                                  Traceback (most recent call last)",
      "\u001b[0;32m<ipython-input-38-915b02ba0538>\u001b[0m in \u001b[0;36m<module>\u001b[0;34m()\u001b[0m\n\u001b[1;32m      1\u001b[0m \u001b[0mauto_example\u001b[0m \u001b[0;34m=\u001b[0m \u001b[0mdetection_results\u001b[0m\u001b[0;34m[\u001b[0m\u001b[0;36m0\u001b[0m\u001b[0;34m]\u001b[0m\u001b[0;34m\u001b[0m\u001b[0m\n\u001b[1;32m      2\u001b[0m \u001b[0mmanual_example\u001b[0m \u001b[0;34m=\u001b[0m \u001b[0mmask_array\u001b[0m\u001b[0;34m[\u001b[0m\u001b[0;36m0\u001b[0m\u001b[0;34m]\u001b[0m\u001b[0;34m\u001b[0m\u001b[0m\n\u001b[0;32m----> 3\u001b[0;31m \u001b[0mprint\u001b[0m\u001b[0;34m(\u001b[0m\u001b[0;34m\"****\"\u001b[0m\u001b[0;34m,\u001b[0m \u001b[0mauto_example\u001b[0m\u001b[0;34m[\u001b[0m\u001b[0;36m1\u001b[0m\u001b[0;34m]\u001b[0m\u001b[0;34m[\u001b[0m\u001b[0;36m0\u001b[0m\u001b[0;34m]\u001b[0m\u001b[0;34m)\u001b[0m\u001b[0;34m\u001b[0m\u001b[0m\n\u001b[0m\u001b[1;32m      4\u001b[0m \u001b[0;34m\u001b[0m\u001b[0m\n\u001b[1;32m      5\u001b[0m \u001b[0;34m\u001b[0m\u001b[0m\n",
      "\u001b[0;31mKeyError\u001b[0m: 0"
     ]
    }
   ],
   "source": [
    "auto_example = detection_results[0]\n",
    "manual_example = mask_array[0]\n",
    "\n",
    "\n",
    "print(\"AUTO\", auto_example)\n",
    "print(\"MANUAL\", manual_example)\n",
    "\n",
    "\n"
   ]
  },
  {
   "cell_type": "code",
   "execution_count": 15,
   "metadata": {},
   "outputs": [
    {
     "name": "stdout",
     "output_type": "stream",
     "text": [
      "CNN Converted Lengths [21.804893291833444, 20.033110633524373, 21.853873178422536, 21.965600342110605, 21.527111617045037, 21.168680251952843, 22.12351635108326, 20.620096004534727, 22.537983824815413, 21.053401199788922, 23.45803203856666, 21.065048063376356, 21.70949473951132, 23.929808004889065, 22.32479999145346, 19.445488569941983, 21.111615157491663]\n",
      "Manual Converted Lengths [22.374149394572907, 20.30216776491023, 22.04485193190194, 22.510574153161947, 21.81088267258363, 21.40906279790602, 22.435906080377574, 21.121444462167002, 22.818856585699614, 21.41112584680221, 24.05527707396508, 21.246788743481236, 24.173878596197902, 22.28329059189882, 21.371634304591463, 21.51887475700668, 22.869735688550517]\n"
     ]
    }
   ],
   "source": [
    "cnn_lengths = convert_measurements(detection_results)\n",
    "manual_lengths = convert_measurements(manual_results)\n",
    "\n",
    "print(\"CNN Converted Lengths\", cnn_lengths)\n",
    "print(\"Manual Converted Lengths\", manual_lengths)"
   ]
  },
  {
   "cell_type": "code",
   "execution_count": null,
   "metadata": {},
   "outputs": [],
   "source": []
  },
  {
   "cell_type": "code",
   "execution_count": 16,
   "metadata": {},
   "outputs": [
    {
     "name": "stdout",
     "output_type": "stream",
     "text": [
      "girth\n",
      "Image ID:  0\n",
      "Current Whale's Girth [4.0000000000000036, 68.36603054064166, 89.45766763497068, 98.51244813563764, 96.52417622399047, 86.4751878529709, 68.36603054064166, 47.274987873586795, 28.17652396438361, 15.1558896524859]\n"
     ]
    },
    {
     "data": {
      "image/png": "[encoded data removed]",
      "text/plain": [
       "<Figure size 432x288 with 1 Axes>"
      ]
     },
     "metadata": {},
     "output_type": "display_data"
    },
    {
     "name": "stdout",
     "output_type": "stream",
     "text": [
      "Image ID:  1\n",
      "Current Whale's Girth [1.9999999999999993, 45.71603229007814, 61.0076822841732, 66.10517201182805, 61.0076822841732, 55.91030419296653, 43.747189471768046, 30.60290866722322, 20.413121085310152, 6.13548346399945]\n"
     ]
    },
    {
     "data": {
      "image/png": "[encoded data removed]",
      "text/plain": [
       "<Figure size 432x288 with 1 Axes>"
      ]
     },
     "metadata": {},
     "output_type": "display_data"
    },
    {
     "name": "stdout",
     "output_type": "stream",
     "text": [
      "Image ID:  2\n",
      "Current Whale's Girth [0.0, 68.15582512279686, 86.35220779187999, 88.53240845803701, 83.4381787263116, 76.16417726530862, 61.853313202284234, 43.18425766660403, 24.75733983985524, 8.067493898815936]\n"
     ]
    },
    {
     "data": {
      "image/png": "[encoded data removed]",
      "text/plain": [
       "<Figure size 432x288 with 1 Axes>"
      ]
     },
     "metadata": {},
     "output_type": "display_data"
    },
    {
     "name": "stdout",
     "output_type": "stream",
     "text": [
      "Image ID:  3\n",
      "Current Whale's Girth [5.118439646779546, 63.151333732393105, 88.28785084398821, 99.46746890241813, 96.51406254734862, 85.3344493954955, 65.12008505360397, 42.588050062543964, 26.492238969537503, 16.30790420976431]\n"
     ]
    },
    {
     "data": {
      "image/png": "[encoded data removed]",
      "text/plain": [
       "<Figure size 432x288 with 1 Axes>"
      ]
     },
     "metadata": {},
     "output_type": "display_data"
    },
    {
     "name": "stdout",
     "output_type": "stream",
     "text": [
      "Image ID:  4\n",
      "Current Whale's Girth [9.999999999999996, 58.08577668322695, 73.06576189668006, 79.10730753038564, 76.11120889790585, 71.11791475882873, 58.08577668322695, 37.06677630774009, 24.09018928655075, 14.064379853466376]\n"
     ]
    },
    {
     "data": {
      "image/png": "[encoded data removed]",
      "text/plain": [
       "<Figure size 432x288 with 1 Axes>"
      ]
     },
     "metadata": {},
     "output_type": "display_data"
    },
    {
     "name": "stdout",
     "output_type": "stream",
     "text": [
      "Image ID:  5\n",
      "Current Whale's Girth [3.0000000000000004, 56.01557139949661, 69.00976791676295, 75.03310411085414, 76.0326832751965, 71.03481136851553, 59.04022880351656, 43.02249445949472, 26.035399003160478, 15.0]\n"
     ]
    },
    {
     "data": {
      "image/png": "[encoded data removed]",
      "text/plain": [
       "<Figure size 432x288 with 1 Axes>"
      ]
     },
     "metadata": {},
     "output_type": "display_data"
    },
    {
     "name": "stdout",
     "output_type": "stream",
     "text": [
      "Image ID:  6\n",
      "Current Whale's Girth [4.999999999999996, 80.3104667196789, 89.36359912670652, 91.3552177406177, 89.36359912670652, 80.4013802452311, 64.28707636425017, 44.19102079091338, 27.08540825364448, 15.146970812159845]\n"
     ]
    },
    {
     "data": {
      "image/png": "[encoded data removed]",
      "text/plain": [
       "<Figure size 432x288 with 1 Axes>"
      ]
     },
     "metadata": {},
     "output_type": "display_data"
    },
    {
     "name": "stdout",
     "output_type": "stream",
     "text": [
      "Image ID:  7\n",
      "Current Whale's Girth [0.0, 54.04573274322321, 68.07042440615335, 68.03553783313833, 63.038993204813984, 55.01007883056334, 45.052975306028415, 32.02993210084442, 20.045929953596726, 7.999999999999999]\n"
     ]
    },
    {
     "data": {
      "image/png": "[encoded data removed]",
      "text/plain": [
       "<Figure size 432x288 with 1 Axes>"
      ]
     },
     "metadata": {},
     "output_type": "display_data"
    },
    {
     "name": "stdout",
     "output_type": "stream",
     "text": [
      "Image ID:  8\n",
      "Current Whale's Girth [13.000000000000004, 53.04649845705991, 68.07139106965518, 70.0326892655733, 66.03580615306228, 60.041150368820226, 48.013673417582126, 36.02515760780867, 23.04136870508108, 6.000000000000001]\n"
     ]
    },
    {
     "data": {
      "image/png": "[encoded data removed]",
      "text/plain": [
       "<Figure size 432x288 with 1 Axes>"
      ]
     },
     "metadata": {},
     "output_type": "display_data"
    },
    {
     "name": "stdout",
     "output_type": "stream",
     "text": [
      "Image ID:  9\n",
      "Current Whale's Girth [11.999999999999998, 49.01929634451871, 62.013100481695915, 65.03729345992531, 59.039968490071736, 52.01777652750341, 45.02143847289296, 36.02695635041079, 30.03151145594047, 15.999999999999998]\n"
     ]
    },
    {
     "data": {
      "image/png": "[encoded data removed]",
      "text/plain": [
       "<Figure size 432x288 with 1 Axes>"
      ]
     },
     "metadata": {},
     "output_type": "display_data"
    },
    {
     "name": "stdout",
     "output_type": "stream",
     "text": [
      "Image ID:  10\n",
      "Current Whale's Girth [5.116289924612667, 61.98926264836533, 76.30145033577769, 80.41744340328007, 70.22076662271493, 61.989262648365326, 50.81075326595846, 36.49965103938084, 21.40011770247248, 4.192568694640531]\n"
     ]
    },
    {
     "data": {
      "image/png": "[encoded data removed]",
      "text/plain": [
       "<Figure size 432x288 with 1 Axes>"
      ]
     },
     "metadata": {},
     "output_type": "display_data"
    },
    {
     "name": "stdout",
     "output_type": "stream",
     "text": [
      "Image ID:  11\n",
      "Current Whale's Girth [3.0000000000000084, 57.71202805465915, 74.97212026403581, 72.99985890329035, 69.05536661201742, 64.94549797842392, 51.795686629893005, 35.52420688638483, 21.395717427055143, 14.172762445695046]\n"
     ]
    },
    {
     "data": {
      "image/png": "[encoded data removed]",
      "text/plain": [
       "<Figure size 432x288 with 1 Axes>"
      ]
     },
     "metadata": {},
     "output_type": "display_data"
    },
    {
     "name": "stdout",
     "output_type": "stream",
     "text": [
      "Image ID:  12\n",
      "Current Whale's Girth [6.0, 56.017278593152234, 72.01198809054453, 75.01108639454291, 70.01260189271505, 63.01484522829818, 50.01957603675268, 37.025694799099405, 24.0, 12.000000000000002]\n"
     ]
    },
    {
     "data": {
      "image/png": "[encoded data removed]",
      "text/plain": [
       "<Figure size 432x288 with 1 Axes>"
      ]
     },
     "metadata": {},
     "output_type": "display_data"
    },
    {
     "name": "stdout",
     "output_type": "stream",
     "text": [
      "Image ID:  13\n",
      "Current Whale's Girth [2.9999999999999996, 62.13629848406715, 79.1640274102593, 85.15229975909227, 87.14842183370922, 84.15424101620299, 70.18182187212588, 49.101427357196776, 27.026833954610815, 10.086066459720996]\n"
     ]
    },
    {
     "data": {
      "image/png": "[encoded data removed]",
      "text/plain": [
       "<Figure size 432x288 with 1 Axes>"
      ]
     },
     "metadata": {},
     "output_type": "display_data"
    },
    {
     "name": "stdout",
     "output_type": "stream",
     "text": [
      "Image ID:  14\n",
      "Current Whale's Girth [4.4967714020949145, 18.80766681854432, 20.14551176595675, 32.64965543462902, 46.96644278824777, 55.467982740316586, 66.64660338740758, 75.5896207704522, 75.58981339757779, 73.35399114067648, 59.938415545276435]\n"
     ]
    },
    {
     "data": {
      "image/png": "[encoded data removed]",
      "text/plain": [
       "<Figure size 432x288 with 1 Axes>"
      ]
     },
     "metadata": {},
     "output_type": "display_data"
    },
    {
     "name": "stdout",
     "output_type": "stream",
     "text": [
      "Image ID:  15\n",
      "Current Whale's Girth [2.9999999999999987, 58.04252407492293, 67.03504499941361, 66.03576705535477, 64.03750312365825, 59.04157120736004, 49.05028680450447, 36.02498576167582, 23.041413197161276, 10.0]\n"
     ]
    },
    {
     "data": {
      "image/png": "[encoded data removed]",
      "text/plain": [
       "<Figure size 432x288 with 1 Axes>"
      ]
     },
     "metadata": {},
     "output_type": "display_data"
    },
    {
     "name": "stdout",
     "output_type": "stream",
     "text": [
      "Image ID:  16\n",
      "Current Whale's Girth [7.086148225964418, 60.67444840723135, 75.95982342669409, 72.9994122823766, 65.76931351101375, 54.753395160262734, 44.72423663369438, 37.49631149871077, 29.442435595702847, 22.218047100516397]\n"
     ]
    },
    {
     "data": {
      "image/png": "[encoded data removed]",
      "text/plain": [
       "<Figure size 432x288 with 1 Axes>"
      ]
     },
     "metadata": {},
     "output_type": "display_data"
    }
   ],
   "source": [
    "print(\"girth\")\n",
    "cnn_girths = girth(detection_results, cnn_lengths, 10)"
   ]
  },
  {
   "cell_type": "code",
   "execution_count": null,
   "metadata": {},
   "outputs": [],
   "source": []
  }
 ],
 "metadata": {
  "kernelspec": {
   "display_name": "Python 3",
   "language": "python",
   "name": "python3"
  },
  "language_info": {
   "codemirror_mode": {
    "name": "ipython",
    "version": 3
   },
   "file_extension": ".py",
   "mimetype": "text/x-python",
   "name": "python",
   "nbconvert_exporter": "python",
   "pygments_lexer": "ipython3",
   "version": "3.6.5"
  }
 },
 "nbformat": 4,
 "nbformat_minor": 2
}
